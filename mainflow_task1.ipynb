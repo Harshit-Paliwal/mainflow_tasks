{
 "cells": [
  {
   "cell_type": "code",
   "execution_count": 2,
   "id": "7d80da9f-c3dc-4eb6-8362-2e85611d461e",
   "metadata": {},
   "outputs": [
    {
     "name": "stdout",
     "output_type": "stream",
     "text": [
      "Original List: [1, 2, 3, 4, 5]\n",
      "List after adding element: [1, 2, 3, 4, 5, 6]\n",
      "List after removing element: [1, 2, 4, 5, 6]\n",
      "List after modifying element: [10, 2, 4, 5, 6]\n"
     ]
    }
   ],
   "source": [
    "# creating a list\n",
    "my_list = [1, 2, 3, 4, 5]\n",
    "print(\"Original List:\", my_list)\n",
    "\n",
    "# Adding elements to the list\n",
    "my_list.append(6)\n",
    "print(\"List after adding element:\", my_list)\n",
    "\n",
    "# Removing elements from the list\n",
    "my_list.remove(3)\n",
    "print(\"List after removing element:\", my_list)\n",
    "\n",
    "# Modifying elements in the list\n",
    "my_list[0] = 10\n",
    "print(\"List after modifying element:\", my_list)"
   ]
  },
  {
   "cell_type": "code",
   "execution_count": 3,
   "id": "ef2896ff-1be1-4b45-a9d0-1212067ceb55",
   "metadata": {},
   "outputs": [
    {
     "name": "stdout",
     "output_type": "stream",
     "text": [
      "\n",
      "Original Dictionary: {'a': 1, 'b': 2, 'c': 3}\n",
      "Dictionary after adding key-value pair: {'a': 1, 'b': 2, 'c': 3, 'd': 4}\n",
      "Dictionary after removing key-value pair: {'a': 1, 'c': 3, 'd': 4}\n",
      "Dictionary after modifying value: {'a': 100, 'c': 3, 'd': 4}\n"
     ]
    }
   ],
   "source": [
    "# Creating a dictionary\n",
    "my_dict = {'a': 1, 'b': 2, 'c': 3}\n",
    "print(\"\\nOriginal Dictionary:\", my_dict)\n",
    "\n",
    "# Adding key-value pairs to the dictionary\n",
    "my_dict['d'] = 4\n",
    "print(\"Dictionary after adding key-value pair:\", my_dict)\n",
    "\n",
    "# Removing key-value pairs from the dictionary\n",
    "del my_dict['b']\n",
    "print(\"Dictionary after removing key-value pair:\", my_dict)\n",
    "\n",
    "# Modifying values in the dictionary\n",
    "my_dict['a'] = 100\n",
    "print(\"Dictionary after modifying value:\", my_dict)"
   ]
  },
  {
   "cell_type": "code",
   "execution_count": 5,
   "id": "51fcd8f7-b090-4de7-b841-837c5eb3b3e5",
   "metadata": {},
   "outputs": [
    {
     "name": "stdout",
     "output_type": "stream",
     "text": [
      "\n",
      "Original Set: {1, 2, 3, 4, 5}\n",
      "Set after adding element: {1, 2, 3, 4, 5, 6}\n",
      "Set after removing element: {1, 2, 4, 5, 6}\n"
     ]
    }
   ],
   "source": [
    "# Creating a set\n",
    "my_set = {1, 2, 3, 4, 5}\n",
    "print(\"\\nOriginal Set:\", my_set)\n",
    "\n",
    "# Adding elements to the set\n",
    "my_set.add(6)\n",
    "print(\"Set after adding element:\", my_set)\n",
    "\n",
    "# Removing elements from the set\n",
    "my_set.remove(3)\n",
    "print(\"Set after removing element:\", my_set)"
   ]
  },
  {
   "cell_type": "code",
   "execution_count": null,
   "id": "ed94625c-0ec0-4bcc-b479-cb8408bd522e",
   "metadata": {},
   "outputs": [],
   "source": []
  }
 ],
 "metadata": {
  "kernelspec": {
   "display_name": "Python 3 (ipykernel)",
   "language": "python",
   "name": "python3"
  },
  "language_info": {
   "codemirror_mode": {
    "name": "ipython",
    "version": 3
   },
   "file_extension": ".py",
   "mimetype": "text/x-python",
   "name": "python",
   "nbconvert_exporter": "python",
   "pygments_lexer": "ipython3",
   "version": "3.11.7"
  }
 },
 "nbformat": 4,
 "nbformat_minor": 5
}
